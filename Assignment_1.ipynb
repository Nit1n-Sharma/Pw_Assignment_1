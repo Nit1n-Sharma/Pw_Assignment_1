{
 "cells": [
  {
   "cell_type": "markdown",
   "id": "9971c410-6cb1-410d-9a47-95d94fc3cf1b",
   "metadata": {},
   "source": [
    "#### Q1. Create one variable containing following type of data: (i) string   (ii) list  (iii) float   (iv) tuple"
   ]
  },
  {
   "cell_type": "code",
   "execution_count": 1,
   "id": "f3a61df5-8591-492e-9c08-2db7c370daaa",
   "metadata": {},
   "outputs": [],
   "source": [
    "a=[\"ram\",45.5,(5,)]"
   ]
  },
  {
   "cell_type": "markdown",
   "id": "053e9e0e-5773-466a-adf2-e1d73904bbbc",
   "metadata": {},
   "source": [
    "#### Q2. Given are some following variables containing data:  (i) var1 = ‘ ‘(ii) var2 = ‘[ DS , ML , Python]’(iii) var3 = [ ‘DS’ , ’ML’ , ‘Python’ ](iv) var4 = 1.     What will be the data type of the above given variable."
   ]
  },
  {
   "cell_type": "markdown",
   "id": "760cdff9-3144-4f4c-9fca-e8740a2defb2",
   "metadata": {},
   "source": [
    "### Answer    (i) null   (ii) String    (iii) List    (iv) integer"
   ]
  },
  {
   "cell_type": "raw",
   "id": "944049f9-799c-4419-802c-d3c01d1d5267",
   "metadata": {},
   "source": [
    "Q3. Explain the use of the following operators using an example:\n",
    "(i) /     Division\n",
    "(ii) %     modulus\n",
    "(iii) //   floor division\n",
    "(iv) **    Exponential"
   ]
  },
  {
   "cell_type": "markdown",
   "id": "3e47a5d7-85e4-4bd6-b7e4-016635ebe2c4",
   "metadata": {},
   "source": [
    "### Q4  Create a list of length 10 of your choice containing multiple types of data. Using for loop print the element and its data type."
   ]
  },
  {
   "cell_type": "code",
   "execution_count": 28,
   "id": "2f6a9cf8-2a88-432b-b710-b4b3a242c8e4",
   "metadata": {},
   "outputs": [
    {
     "name": "stdout",
     "output_type": "stream",
     "text": [
      "1\n",
      "2\n",
      "3.4\n",
      "8\n",
      "9\n",
      "ram\n",
      "nitin\n",
      "9\n",
      "10\n"
     ]
    }
   ],
   "source": [
    "a=[1,2,3.4,8,9,\"ram\",\"nitin\",9,10]\n",
    "for i in a:\n",
    "    print(i)\n",
    "    i=+1"
   ]
  },
  {
   "cell_type": "markdown",
   "id": "a29a4e93-e6d0-43c0-9941-61c296580400",
   "metadata": {},
   "source": [
    "### Q5. Using a while loop, verify if the number A is purely divisible by number B and if so then how many times it can be divisible."
   ]
  },
  {
   "cell_type": "code",
   "execution_count": 29,
   "id": "e5406add-85ef-47d0-a31b-e96aee6e76c9",
   "metadata": {},
   "outputs": [
    {
     "name": "stdout",
     "output_type": "stream",
     "text": [
      "100.0\n",
      "50.0\n",
      "25.0\n",
      "3\n"
     ]
    }
   ],
   "source": [
    "a=200\n",
    "b=2\n",
    "count=0\n",
    "while a>b and a%b==0:\n",
    "    a=a/b\n",
    "    print(a)\n",
    "    count+=1\n",
    "if count>0:\n",
    "     print(count)\n",
    "else:\n",
    "    print(\"not divisible\")"
   ]
  },
  {
   "cell_type": "markdown",
   "id": "ed7bf7d6-7c2d-4d10-aaa5-5a0e75b55ffd",
   "metadata": {},
   "source": [
    "### Q6. Create a list containing 25 int type data. Using for loop and if-else condition print if the element isdivisible by 3 or not."
   ]
  },
  {
   "cell_type": "code",
   "execution_count": 27,
   "id": "38590ac3-88eb-4df4-8533-ff4d39e3556e",
   "metadata": {},
   "outputs": [
    {
     "name": "stdout",
     "output_type": "stream",
     "text": [
      "not\n",
      "not\n",
      "Divisible 3\n",
      "not\n",
      "not\n",
      "Divisible 6\n",
      "not\n",
      "not\n",
      "Divisible 9\n",
      "not\n",
      "not\n",
      "Divisible 12\n",
      "not\n",
      "not\n",
      "Divisible 15\n",
      "not\n",
      "not\n",
      "Divisible 18\n",
      "not\n",
      "not\n",
      "Divisible 21\n",
      "not\n",
      "not\n",
      "Divisible 24\n",
      "not\n"
     ]
    }
   ],
   "source": [
    "a=[1,2,3,4,5,6,7,8,9,10,11,12,13,14,15,16,17,18,19,20,21,22,23,24,25]\n",
    "for i in a:\n",
    "    if i%3 == 0:\n",
    "        print('Divisible', i)\n",
    "    else:\n",
    "        print('not')"
   ]
  },
  {
   "cell_type": "markdown",
   "id": "8b5631fa-90b2-455d-abd7-a352f7b578b3",
   "metadata": {},
   "source": [
    "### Q7. What do you understand about mutable and immutable data types? Give examples for both showing this property."
   ]
  },
  {
   "cell_type": "code",
   "execution_count": null,
   "id": "81e95354-b63f-4523-949f-99d13b744eca",
   "metadata": {},
   "outputs": [],
   "source": [
    "Mutable datatype are those in which we can change or delete the value of any index number "
   ]
  }
 ],
 "metadata": {
  "kernelspec": {
   "display_name": "Python 3 (ipykernel)",
   "language": "python",
   "name": "python3"
  },
  "language_info": {
   "codemirror_mode": {
    "name": "ipython",
    "version": 3
   },
   "file_extension": ".py",
   "mimetype": "text/x-python",
   "name": "python",
   "nbconvert_exporter": "python",
   "pygments_lexer": "ipython3",
   "version": "3.10.8"
  }
 },
 "nbformat": 4,
 "nbformat_minor": 5
}
